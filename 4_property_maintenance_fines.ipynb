{
 "cells": [
  {
   "cell_type": "markdown",
   "metadata": {},
   "source": [
    "## 4 - Predicting Property Maintenance Fines\n",
    "\n",
    "Based on assignment 4 of [Applied Machine Learning in Python | Coursera](https://www.coursera.org/learn/python-machine-learning)\n",
    "\n",
    "\n",
    "Goal: Predict the probability that a set of blight tickets will be paid on time\n",
    "\n",
    "Data provided by Michigan Data Science Team ([MDST](http://midas.umich.edu/mdst/)), the Michigan Student Symposium for Interdisciplinary Statistical Sciences ([MSSISS](https://sites.lsa.umich.edu/mssiss/)) and the City of Detroit [Detroit Open Data Portal](https://data.detroitmi.gov/).\n",
    " \n",
    "\n",
    "Each row in train.csv and test.csv.corresponds to a single blight ticket, and includes information about when, why, and to whom each ticket was issued. The target variable is compliance, which is True if the ticket was paid early, on time, or within one month of the hearing data, False if the ticket was paid after the hearing date or not at all, and Null if the violator was found not responsible. Compliance, as well as a handful of other variables that will not be available at test-time, are only included in train.csv.\n",
    "\n",
    "**Data fields**\n",
    "\n",
    "train.csv & test.csv\n",
    "\n",
    "    ticket_id - unique identifier for tickets\n",
    "    agency_name - Agency that issued the ticket\n",
    "    inspector_name - Name of inspector that issued the ticket\n",
    "    violator_name - Name of the person/organization that the ticket was issued to\n",
    "    violation_street_number, violation_street_name, violation_zip_code - Address where the violation occurred\n",
    "    mailing_address_str_number, mailing_address_str_name, city, state, zip_code, non_us_str_code, country - Mailing address of the violator\n",
    "    ticket_issued_date - Date and time the ticket was issued\n",
    "    hearing_date - Date and time the violator's hearing was scheduled\n",
    "    violation_code, violation_description - Type of violation\n",
    "    disposition - Judgment and judgement type\n",
    "    fine_amount - Violation fine amount, excluding fees\n",
    "    admin_fee - $20 fee assigned to responsible judgments\n",
    "state_fee - $10 fee assigned to responsible judgments\n",
    "    late_fee - 10% fee assigned to responsible judgments\n",
    "    discount_amount - discount applied, if any\n",
    "    clean_up_cost - DPW clean-up or graffiti removal cost\n",
    "    judgment_amount - Sum of all fines and fees\n",
    "    grafitti_status - Flag for graffiti violations\n",
    "    \n",
    "train.csv only\n",
    "\n",
    "    payment_amount - Amount paid, if any\n",
    "    payment_date - Date payment was made, if it was received\n",
    "    payment_status - Current payment status as of Feb 1 2017\n",
    "    balance_due - Fines and fees still owed\n",
    "    collection_status - Flag for payments in collections\n",
    "    compliance [target variable for prediction] \n",
    "     Null = Not responsible\n",
    "     0 = Responsible, non-compliant\n",
    "     1 = Responsible, compliant\n",
    "    compliance_detail - More information on why each ticket was marked compliant or non-compliant"
   ]
  },
  {
   "cell_type": "code",
   "execution_count": 1,
   "metadata": {
    "collapsed": true
   },
   "outputs": [],
   "source": [
    "%matplotlib inline\n",
    "\n",
    "import pandas as pd\n",
    "import numpy as np\n",
    "import matplotlib.pyplot as plt"
   ]
  },
  {
   "cell_type": "markdown",
   "metadata": {},
   "source": [
    "##  0. Original Data"
   ]
  },
  {
   "cell_type": "code",
   "execution_count": 2,
   "metadata": {},
   "outputs": [
    {
     "name": "stdout",
     "output_type": "stream",
     "text": [
      "250306 rows \n",
      "34 columns \n",
      "target: ['compliance']\n"
     ]
    }
   ],
   "source": [
    "target = ['compliance']\n",
    "\n",
    "df_original = pd.read_csv('data/train.csv', encoding='iso-8859-1', dtype='unicode')\n",
    "print(\"{} rows \\n{} columns \\ntarget: {}\".format(*df_original.shape, target))"
   ]
  },
  {
   "cell_type": "code",
   "execution_count": 3,
   "metadata": {},
   "outputs": [
    {
     "data": {
      "text/html": [
       "<div>\n",
       "<style>\n",
       "    .dataframe thead tr:only-child th {\n",
       "        text-align: right;\n",
       "    }\n",
       "\n",
       "    .dataframe thead th {\n",
       "        text-align: left;\n",
       "    }\n",
       "\n",
       "    .dataframe tbody tr th {\n",
       "        vertical-align: top;\n",
       "    }\n",
       "</style>\n",
       "<table border=\"1\" class=\"dataframe\">\n",
       "  <thead>\n",
       "    <tr style=\"text-align: right;\">\n",
       "      <th></th>\n",
       "      <th>ticket_id</th>\n",
       "      <th>agency_name</th>\n",
       "      <th>inspector_name</th>\n",
       "      <th>violator_name</th>\n",
       "      <th>violation_street_number</th>\n",
       "      <th>violation_street_name</th>\n",
       "      <th>violation_zip_code</th>\n",
       "      <th>mailing_address_str_number</th>\n",
       "      <th>mailing_address_str_name</th>\n",
       "      <th>city</th>\n",
       "      <th>...</th>\n",
       "      <th>clean_up_cost</th>\n",
       "      <th>judgment_amount</th>\n",
       "      <th>payment_amount</th>\n",
       "      <th>balance_due</th>\n",
       "      <th>payment_date</th>\n",
       "      <th>payment_status</th>\n",
       "      <th>collection_status</th>\n",
       "      <th>grafitti_status</th>\n",
       "      <th>compliance_detail</th>\n",
       "      <th>compliance</th>\n",
       "    </tr>\n",
       "  </thead>\n",
       "  <tbody>\n",
       "    <tr>\n",
       "      <th>0</th>\n",
       "      <td>22056</td>\n",
       "      <td>Buildings, Safety Engineering &amp; Env Department</td>\n",
       "      <td>Sims, Martinzie</td>\n",
       "      <td>INVESTMENT INC., MIDWEST MORTGAGE</td>\n",
       "      <td>2900.0</td>\n",
       "      <td>TYLER</td>\n",
       "      <td>NaN</td>\n",
       "      <td>3</td>\n",
       "      <td>S. WICKER</td>\n",
       "      <td>CHICAGO</td>\n",
       "      <td>...</td>\n",
       "      <td>0.0</td>\n",
       "      <td>305.0</td>\n",
       "      <td>0.0</td>\n",
       "      <td>305.0</td>\n",
       "      <td>NaN</td>\n",
       "      <td>NO PAYMENT APPLIED</td>\n",
       "      <td>NaN</td>\n",
       "      <td>NaN</td>\n",
       "      <td>non-compliant by no payment</td>\n",
       "      <td>0.0</td>\n",
       "    </tr>\n",
       "    <tr>\n",
       "      <th>1</th>\n",
       "      <td>27586</td>\n",
       "      <td>Buildings, Safety Engineering &amp; Env Department</td>\n",
       "      <td>Williams, Darrin</td>\n",
       "      <td>Michigan, Covenant House</td>\n",
       "      <td>4311.0</td>\n",
       "      <td>CENTRAL</td>\n",
       "      <td>NaN</td>\n",
       "      <td>2959</td>\n",
       "      <td>Martin Luther King</td>\n",
       "      <td>Detroit</td>\n",
       "      <td>...</td>\n",
       "      <td>0.0</td>\n",
       "      <td>855.0</td>\n",
       "      <td>780.0</td>\n",
       "      <td>75.0</td>\n",
       "      <td>2005-06-02 00:00:00</td>\n",
       "      <td>PAID IN FULL</td>\n",
       "      <td>NaN</td>\n",
       "      <td>NaN</td>\n",
       "      <td>compliant by late payment within 1 month</td>\n",
       "      <td>1.0</td>\n",
       "    </tr>\n",
       "  </tbody>\n",
       "</table>\n",
       "<p>2 rows × 34 columns</p>\n",
       "</div>"
      ],
      "text/plain": [
       "  ticket_id                                     agency_name    inspector_name  \\\n",
       "0     22056  Buildings, Safety Engineering & Env Department   Sims, Martinzie   \n",
       "1     27586  Buildings, Safety Engineering & Env Department  Williams, Darrin   \n",
       "\n",
       "                       violator_name violation_street_number  \\\n",
       "0  INVESTMENT INC., MIDWEST MORTGAGE                  2900.0   \n",
       "1           Michigan, Covenant House                  4311.0   \n",
       "\n",
       "  violation_street_name violation_zip_code mailing_address_str_number  \\\n",
       "0                 TYLER                NaN                          3   \n",
       "1               CENTRAL                NaN                       2959   \n",
       "\n",
       "  mailing_address_str_name     city    ...     clean_up_cost judgment_amount  \\\n",
       "0                S. WICKER  CHICAGO    ...               0.0           305.0   \n",
       "1       Martin Luther King  Detroit    ...               0.0           855.0   \n",
       "\n",
       "  payment_amount balance_due         payment_date      payment_status  \\\n",
       "0            0.0       305.0                  NaN  NO PAYMENT APPLIED   \n",
       "1          780.0        75.0  2005-06-02 00:00:00        PAID IN FULL   \n",
       "\n",
       "  collection_status grafitti_status                         compliance_detail  \\\n",
       "0               NaN             NaN               non-compliant by no payment   \n",
       "1               NaN             NaN  compliant by late payment within 1 month   \n",
       "\n",
       "  compliance  \n",
       "0        0.0  \n",
       "1        1.0  \n",
       "\n",
       "[2 rows x 34 columns]"
      ]
     },
     "execution_count": 3,
     "metadata": {},
     "output_type": "execute_result"
    }
   ],
   "source": [
    "df_original.head(2)"
   ]
  },
  {
   "cell_type": "markdown",
   "metadata": {},
   "source": [
    "### Explore and Clean Target"
   ]
  },
  {
   "cell_type": "code",
   "execution_count": 4,
   "metadata": {
    "scrolled": true
   },
   "outputs": [
    {
     "name": "stdout",
     "output_type": "stream",
     "text": [
      "0.0    148283\n",
      "NaN     90426\n",
      "1.0     11597\n",
      "Name: compliance, dtype: int64\n"
     ]
    }
   ],
   "source": [
    "print(df_original[target].squeeze().value_counts(dropna=False))"
   ]
  },
  {
   "cell_type": "code",
   "execution_count": 5,
   "metadata": {},
   "outputs": [
    {
     "name": "stdout",
     "output_type": "stream",
     "text": [
      "0.0    148283\n",
      "1.0     11597\n",
      "Name: compliance, dtype: int64\n",
      "(159880, 34)\n"
     ]
    }
   ],
   "source": [
    "# Remove rows with NULL targets\n",
    "\n",
    "df_original = df_original.dropna(subset=target)\n",
    "\n",
    "print(df_original[target].squeeze().value_counts())\n",
    "print(df_original.shape)"
   ]
  },
  {
   "cell_type": "markdown",
   "metadata": {},
   "source": [
    "** Imbalanced target: the evaluation metric used in this problem is the Area Under the ROC Curve **"
   ]
  },
  {
   "cell_type": "markdown",
   "metadata": {},
   "source": [
    "###  Split original data into training and validation test set"
   ]
  },
  {
   "cell_type": "code",
   "execution_count": 6,
   "metadata": {
    "collapsed": true
   },
   "outputs": [],
   "source": [
    "from sklearn.model_selection import train_test_split\n",
    "\n",
    "df, df_test = train_test_split(\n",
    "    df_original, test_size=0.2, stratify=df_original[target], random_state=0)"
   ]
  },
  {
   "cell_type": "markdown",
   "metadata": {},
   "source": [
    "## 1. Data Processing"
   ]
  },
  {
   "cell_type": "markdown",
   "metadata": {},
   "source": [
    "** To avoid data leakage, only the training dataframe, df, will be explored and processed here** "
   ]
  },
  {
   "cell_type": "code",
   "execution_count": 7,
   "metadata": {},
   "outputs": [
    {
     "name": "stdout",
     "output_type": "stream",
     "text": [
      "violator_name                     26\n",
      "violation_zip_code            159880\n",
      "mailing_address_str_number      2558\n",
      "mailing_address_str_name           3\n",
      "state                             84\n",
      "zip_code                           1\n",
      "non_us_str_code               159877\n",
      "hearing_date                     227\n",
      "payment_date                  120269\n",
      "collection_status             122983\n",
      "grafitti_status               159880\n",
      "dtype: int64\n"
     ]
    }
   ],
   "source": [
    "def missing(df):\n",
    "    \"\"\" Display missing values in a given dataframe \"\"\"\n",
    "\n",
    "    missing = df.isnull().sum()\n",
    "    missing = missing[missing > 0]\n",
    "    if len(missing) == 0:\n",
    "        print(\"No missing values found\")\n",
    "    else:\n",
    "        print(missing)\n",
    "\n",
    "\n",
    "missing(df_original)"
   ]
  },
  {
   "cell_type": "markdown",
   "metadata": {},
   "source": [
    "### Transform Data"
   ]
  },
  {
   "cell_type": "markdown",
   "metadata": {},
   "source": [
    "#### Remove irrelevant features"
   ]
  },
  {
   "cell_type": "code",
   "execution_count": 8,
   "metadata": {},
   "outputs": [
    {
     "name": "stdout",
     "output_type": "stream",
     "text": [
      "(159880, 12)\n"
     ]
    }
   ],
   "source": [
    "df = df_original.copy()  # modified dataset\n",
    "\n",
    "\n",
    "def remove_features(df):\n",
    "\n",
    "    relevant_col = [\n",
    "        'agency_name', 'violation_street_name', 'city', 'state', 'violator_name',\n",
    "        'violation_code', 'late_fee', 'discount_amount', 'judgment_amount', 'disposition',\n",
    "        'fine_amount', 'compliance'\n",
    "    ]\n",
    "\n",
    "    df = df[relevant_col]\n",
    "\n",
    "    return df\n",
    "\n",
    "\n",
    "df = remove_features(df)\n",
    "\n",
    "print(df.shape)"
   ]
  },
  {
   "cell_type": "markdown",
   "metadata": {},
   "source": [
    "#### Classify features"
   ]
  },
  {
   "cell_type": "code",
   "execution_count": 9,
   "metadata": {
    "collapsed": true
   },
   "outputs": [],
   "source": [
    "num = ['late_fee', 'discount_amount', 'judgment_amount', 'fine_amount']  # numerical features\n",
    "cat = [col for col in df if col not in num if col not in target]  # categorical features"
   ]
  },
  {
   "cell_type": "markdown",
   "metadata": {},
   "source": [
    "#### Fix types and Sort columns"
   ]
  },
  {
   "cell_type": "code",
   "execution_count": 10,
   "metadata": {},
   "outputs": [
    {
     "data": {
      "text/plain": [
       "late_fee                 float32\n",
       "discount_amount          float32\n",
       "judgment_amount          float32\n",
       "fine_amount              float32\n",
       "agency_name               object\n",
       "violation_street_name     object\n",
       "city                      object\n",
       "state                     object\n",
       "violator_name             object\n",
       "violation_code            object\n",
       "disposition               object\n",
       "compliance                object\n",
       "dtype: object"
      ]
     },
     "execution_count": 10,
     "metadata": {},
     "output_type": "execute_result"
    }
   ],
   "source": [
    "def fix_types(df):\n",
    "\n",
    "    for col in df[num + cat]:\n",
    "        if col in num:\n",
    "            df[col] = df[col].astype(np.float32)\n",
    "        else:\n",
    "            df[col] = df[col].astype('object')\n",
    "\n",
    "    return df\n",
    "\n",
    "\n",
    "fix_types(df)\n",
    "\n",
    "df[target[0]] = df[target[0]].astype('object')  # fix target type\n",
    "\n",
    "df = df[num + cat + target]  # sort columns\n",
    "\n",
    "df.dtypes"
   ]
  },
  {
   "cell_type": "markdown",
   "metadata": {},
   "source": [
    "#### Remove low-frequency categorical values  (time-consuming)"
   ]
  },
  {
   "cell_type": "code",
   "execution_count": 11,
   "metadata": {},
   "outputs": [],
   "source": [
    "def remove_lowfreq(df, values=None, ratio=0.001, show=False):\n",
    "    \"\"\"\n",
    "    Remove low frequency categorical values appearing less than 'ratio' in its column of the \n",
    "    dataframe df. All fields of df must be categotical (objects)\n",
    "    \"\"\"\n",
    "\n",
    "    for f in df:\n",
    "        assert df[f].dtype == 'object', '{}: is not categorical'.format(col)\n",
    "\n",
    "    df = df.copy()\n",
    "\n",
    "    if values:\n",
    "\n",
    "        for f in df:\n",
    "            high_freq = values[f]\n",
    "            low_freq = [v for v in df[f].unique() if v not in high_freq]\n",
    "\n",
    "            if len(low_freq) > 0:\n",
    "                df[f] = df[f].replace(low_freq, np.nan)\n",
    "    else:\n",
    "\n",
    "        values = dict()\n",
    "        threshold = df.shape[0] * ratio\n",
    "\n",
    "        for f in df:\n",
    "            count = df[f].value_counts()\n",
    "            high_freq = list(count[count >= threshold].index)\n",
    "            low_freq = list(count[count < threshold].index)\n",
    "\n",
    "            values[f] = high_freq\n",
    "\n",
    "            if len(low_freq) > 0:\n",
    "                df[f] = df[f].replace(low_freq, np.nan)\n",
    "            if show:\n",
    "                print(f, '\\n', high_freq, '\\n')\n",
    "\n",
    "    return df, values\n",
    "\n",
    "\n",
    "df[cat], cat_values = remove_lowfreq(df[cat])\n",
    "\n",
    "#df.to_csv('data/training_filtered.csv', index=False)\n",
    "#np.save('categorical_values.npy', cat_values)"
   ]
  },
  {
   "cell_type": "code",
   "execution_count": 12,
   "metadata": {
    "collapsed": true
   },
   "outputs": [],
   "source": [
    "# df = pd.read_csv('training_filtered.csv')\n",
    "# cat_values = np.load('categorical_values.npy').item()\n",
    "\n",
    "#  read from file changed target type to float\n",
    "df['compliance'] = df['compliance'].astype('object')"
   ]
  },
  {
   "cell_type": "markdown",
   "metadata": {},
   "source": [
    "#### Fill missing numerical values with the median"
   ]
  },
  {
   "cell_type": "code",
   "execution_count": 13,
   "metadata": {},
   "outputs": [
    {
     "name": "stdout",
     "output_type": "stream",
     "text": [
      "No missing values found\n"
     ]
    }
   ],
   "source": [
    "def fill_missing_numerical(df, value=None):\n",
    "    \n",
    "    for col in df:\n",
    "        assert df[col].dtype != 'object', '{}: is not numerical'.format(col) \n",
    "    \n",
    "    if value is None:\n",
    "        value = df[numerical].median()\n",
    "        \n",
    "    df = df.fillna(value)\n",
    "    \n",
    "    return df, value\n",
    "\n",
    "missing(df[num])\n",
    "#df[num], numerical_fill = fill_missing_numerical(df[numerical]) # Not needed here"
   ]
  },
  {
   "cell_type": "markdown",
   "metadata": {},
   "source": [
    "####  Fill missing categorical values with 'Other'\n"
   ]
  },
  {
   "cell_type": "code",
   "execution_count": 14,
   "metadata": {},
   "outputs": [
    {
     "name": "stdout",
     "output_type": "stream",
     "text": [
      "agency_name                   1\n",
      "violation_street_name     51310\n",
      "city                      23340\n",
      "state                      2118\n",
      "violator_name            158483\n",
      "violation_code             3193\n",
      "dtype: int64\n"
     ]
    }
   ],
   "source": [
    "missing(df[cat])"
   ]
  },
  {
   "cell_type": "code",
   "execution_count": 15,
   "metadata": {
    "collapsed": true
   },
   "outputs": [],
   "source": [
    "def fill_missing_categorical(df):\n",
    "\n",
    "    df = df.copy()\n",
    "\n",
    "    for col in df:\n",
    "        assert df[col].dtype == 'object', '{}: is not categorical'.format(col)\n",
    "        df[col].fillna('Other', inplace=True)\n",
    "\n",
    "    return df\n",
    "\n",
    "\n",
    "df[cat] = fill_missing_categorical(df[cat])"
   ]
  },
  {
   "cell_type": "code",
   "execution_count": 16,
   "metadata": {},
   "outputs": [
    {
     "name": "stdout",
     "output_type": "stream",
     "text": [
      "No missing values found\n"
     ]
    }
   ],
   "source": [
    "missing(df)"
   ]
  },
  {
   "cell_type": "code",
   "execution_count": 17,
   "metadata": {
    "collapsed": true
   },
   "outputs": [],
   "source": [
    "copy_df = df.copy()  # checkpoint"
   ]
  },
  {
   "cell_type": "code",
   "execution_count": 18,
   "metadata": {},
   "outputs": [
    {
     "data": {
      "text/plain": [
       "late_fee                 float32\n",
       "discount_amount          float32\n",
       "judgment_amount          float32\n",
       "fine_amount              float32\n",
       "agency_name               object\n",
       "violation_street_name     object\n",
       "city                      object\n",
       "state                     object\n",
       "violator_name             object\n",
       "violation_code            object\n",
       "disposition               object\n",
       "compliance                object\n",
       "dtype: object"
      ]
     },
     "execution_count": 18,
     "metadata": {},
     "output_type": "execute_result"
    }
   ],
   "source": [
    "df.dtypes"
   ]
  },
  {
   "cell_type": "markdown",
   "metadata": {},
   "source": [
    "## 2 Prepare data for ML"
   ]
  },
  {
   "cell_type": "code",
   "execution_count": 19,
   "metadata": {},
   "outputs": [
    {
     "data": {
      "text/html": [
       "<div>\n",
       "<style>\n",
       "    .dataframe thead tr:only-child th {\n",
       "        text-align: right;\n",
       "    }\n",
       "\n",
       "    .dataframe thead th {\n",
       "        text-align: left;\n",
       "    }\n",
       "\n",
       "    .dataframe tbody tr th {\n",
       "        vertical-align: top;\n",
       "    }\n",
       "</style>\n",
       "<table border=\"1\" class=\"dataframe\">\n",
       "  <thead>\n",
       "    <tr style=\"text-align: right;\">\n",
       "      <th></th>\n",
       "      <th>late_fee</th>\n",
       "      <th>discount_amount</th>\n",
       "      <th>judgment_amount</th>\n",
       "      <th>fine_amount</th>\n",
       "      <th>agency_name</th>\n",
       "      <th>violation_street_name</th>\n",
       "      <th>city</th>\n",
       "      <th>state</th>\n",
       "      <th>violator_name</th>\n",
       "      <th>violation_code</th>\n",
       "      <th>disposition</th>\n",
       "      <th>compliance</th>\n",
       "    </tr>\n",
       "  </thead>\n",
       "  <tbody>\n",
       "    <tr>\n",
       "      <th>0</th>\n",
       "      <td>25.0</td>\n",
       "      <td>0.0</td>\n",
       "      <td>305.0</td>\n",
       "      <td>250.0</td>\n",
       "      <td>Buildings, Safety Engineering &amp; Env Department</td>\n",
       "      <td>TYLER</td>\n",
       "      <td>CHICAGO</td>\n",
       "      <td>IL</td>\n",
       "      <td>Other</td>\n",
       "      <td>9-1-36(a)</td>\n",
       "      <td>Responsible by Default</td>\n",
       "      <td>0.0</td>\n",
       "    </tr>\n",
       "    <tr>\n",
       "      <th>1</th>\n",
       "      <td>75.0</td>\n",
       "      <td>0.0</td>\n",
       "      <td>855.0</td>\n",
       "      <td>750.0</td>\n",
       "      <td>Buildings, Safety Engineering &amp; Env Department</td>\n",
       "      <td>CENTRAL</td>\n",
       "      <td>Detroit</td>\n",
       "      <td>MI</td>\n",
       "      <td>Other</td>\n",
       "      <td>Other</td>\n",
       "      <td>Responsible by Determination</td>\n",
       "      <td>1.0</td>\n",
       "    </tr>\n",
       "  </tbody>\n",
       "</table>\n",
       "</div>"
      ],
      "text/plain": [
       "   late_fee  discount_amount  judgment_amount  fine_amount  \\\n",
       "0      25.0              0.0            305.0        250.0   \n",
       "1      75.0              0.0            855.0        750.0   \n",
       "\n",
       "                                      agency_name violation_street_name  \\\n",
       "0  Buildings, Safety Engineering & Env Department                 TYLER   \n",
       "1  Buildings, Safety Engineering & Env Department               CENTRAL   \n",
       "\n",
       "      city state violator_name violation_code                   disposition  \\\n",
       "0  CHICAGO    IL         Other      9-1-36(a)        Responsible by Default   \n",
       "1  Detroit    MI         Other          Other  Responsible by Determination   \n",
       "\n",
       "  compliance  \n",
       "0        0.0  \n",
       "1        1.0  "
      ]
     },
     "execution_count": 19,
     "metadata": {},
     "output_type": "execute_result"
    }
   ],
   "source": [
    "# From now on use data instead of df\n",
    "data = copy_df.copy()\n",
    "data.head(2)"
   ]
  },
  {
   "cell_type": "markdown",
   "metadata": {},
   "source": [
    "### Scale numerical variables"
   ]
  },
  {
   "cell_type": "code",
   "execution_count": 20,
   "metadata": {
    "collapsed": true
   },
   "outputs": [],
   "source": [
    "def standardize(data, scale=None):\n",
    "    \"\"\"\n",
    "    Standardize numerical variables (mean=0, std=1)\n",
    "    \n",
    "    Input: dataframe to standardize, dict(numerical_feature: [mean, std]) if a scale is used\n",
    "    Output:  normal-distributed dataframe, dict(numerical_feature: [mean, std])\n",
    "    \n",
    "    Dataframe fields must be numerical\n",
    "    \"\"\"\n",
    "\n",
    "    data = data.copy()\n",
    "\n",
    "    if not scale:\n",
    "        create_scale = True\n",
    "        scale = {}\n",
    "    else:\n",
    "        create_scale = False\n",
    "\n",
    "    for f in data:\n",
    "        assert data[f].dtype != 'object', '{}: is not numerical'.format(f)\n",
    "        if create_scale:\n",
    "            mean, std = data[f].mean(), data[f].std()\n",
    "            data[f] = (data[f].values - mean) / std\n",
    "            scale[f] = [mean, std]\n",
    "        else:\n",
    "            data.loc[:, f] = (data[f] - scale[f][0]) / scale[f][1]\n",
    "    return data, scale"
   ]
  },
  {
   "cell_type": "code",
   "execution_count": 21,
   "metadata": {
    "collapsed": true
   },
   "outputs": [],
   "source": [
    "data[num], scale = standardize(data[num])"
   ]
  },
  {
   "cell_type": "markdown",
   "metadata": {},
   "source": [
    "### Create dummy features"
   ]
  },
  {
   "cell_type": "code",
   "execution_count": 22,
   "metadata": {
    "collapsed": true
   },
   "outputs": [],
   "source": [
    "def create_dummy(data, categorical, dummies=None):\n",
    "    \"\"\" \n",
    "    Replace categorical features by dummy features (no target)  \n",
    "    If no dummy list is used, a new one is created.  \n",
    "    \n",
    "    Input: dataframe, target list, dummy list\n",
    "    Output: dataframe with categorical replaced by dummies, generated dummy list\n",
    "     \"\"\"\n",
    "\n",
    "    data = data.copy()\n",
    "\n",
    "    if not dummies:\n",
    "        create_dummies = True\n",
    "        dummies = []\n",
    "    else:\n",
    "        create_dummies = False\n",
    "\n",
    "    found_dummies = []\n",
    "\n",
    "    for f in categorical:\n",
    "\n",
    "        assert data[f].dtype == 'object', '{}: is not categorical'.format(f)\n",
    "\n",
    "        dummy = pd.get_dummies(data[f], prefix=f, drop_first=False)\n",
    "        data = pd.concat([data, dummy], axis=1)\n",
    "        data.drop(f, axis=1, inplace=True)\n",
    "\n",
    "        found_dummies.extend(dummy)\n",
    "\n",
    "    if not create_dummies:\n",
    "        # remove new dummies not in given dummies\n",
    "        new = set(found_dummies) - set(dummies)\n",
    "        for n in new:\n",
    "            data.drop(n, axis=1, inplace=True)\n",
    "\n",
    "        # fill missing dummies with empty values (0)\n",
    "        missing = set(dummies) - set(found_dummies)\n",
    "        for m in missing:\n",
    "            data[m] = 0\n",
    "\n",
    "    else:\n",
    "        dummies = found_dummies\n",
    "\n",
    "    # set new columns to category\n",
    "    for dummy in dummies:\n",
    "        data[dummy] = data[dummy].astype('object')\n",
    "\n",
    "    return data, dummies"
   ]
  },
  {
   "cell_type": "code",
   "execution_count": 23,
   "metadata": {},
   "outputs": [
    {
     "data": {
      "text/html": [
       "<div>\n",
       "<style>\n",
       "    .dataframe thead tr:only-child th {\n",
       "        text-align: right;\n",
       "    }\n",
       "\n",
       "    .dataframe thead th {\n",
       "        text-align: left;\n",
       "    }\n",
       "\n",
       "    .dataframe tbody tr th {\n",
       "        vertical-align: top;\n",
       "    }\n",
       "</style>\n",
       "<table border=\"1\" class=\"dataframe\">\n",
       "  <thead>\n",
       "    <tr style=\"text-align: right;\">\n",
       "      <th></th>\n",
       "      <th>late_fee</th>\n",
       "      <th>discount_amount</th>\n",
       "      <th>judgment_amount</th>\n",
       "      <th>fine_amount</th>\n",
       "      <th>compliance</th>\n",
       "      <th>agency_name_Buildings, Safety Engineering &amp; Env Department</th>\n",
       "      <th>agency_name_Department of Public Works</th>\n",
       "      <th>agency_name_Detroit Police Department</th>\n",
       "      <th>agency_name_Health Department</th>\n",
       "      <th>agency_name_Other</th>\n",
       "      <th>...</th>\n",
       "      <th>violation_code_9-1-36(a)</th>\n",
       "      <th>violation_code_9-1-43(a) - (Dwellin</th>\n",
       "      <th>violation_code_9-1-43(a) - (Structu</th>\n",
       "      <th>violation_code_9-1-81(a)</th>\n",
       "      <th>violation_code_9-1-82(d) - (Dwellin</th>\n",
       "      <th>violation_code_Other</th>\n",
       "      <th>disposition_Responsible (Fine Waived) by Deter</th>\n",
       "      <th>disposition_Responsible by Admission</th>\n",
       "      <th>disposition_Responsible by Default</th>\n",
       "      <th>disposition_Responsible by Determination</th>\n",
       "    </tr>\n",
       "  </thead>\n",
       "  <tbody>\n",
       "    <tr>\n",
       "      <th>0</th>\n",
       "      <td>-0.127805</td>\n",
       "      <td>-0.045675</td>\n",
       "      <td>-0.155746</td>\n",
       "      <td>-0.158417</td>\n",
       "      <td>0.0</td>\n",
       "      <td>1</td>\n",
       "      <td>0</td>\n",
       "      <td>0</td>\n",
       "      <td>0</td>\n",
       "      <td>0</td>\n",
       "      <td>...</td>\n",
       "      <td>1</td>\n",
       "      <td>0</td>\n",
       "      <td>0</td>\n",
       "      <td>0</td>\n",
       "      <td>0</td>\n",
       "      <td>0</td>\n",
       "      <td>0</td>\n",
       "      <td>0</td>\n",
       "      <td>1</td>\n",
       "      <td>0</td>\n",
       "    </tr>\n",
       "    <tr>\n",
       "      <th>1</th>\n",
       "      <td>0.610824</td>\n",
       "      <td>-0.045675</td>\n",
       "      <td>0.584940</td>\n",
       "      <td>0.581605</td>\n",
       "      <td>1.0</td>\n",
       "      <td>1</td>\n",
       "      <td>0</td>\n",
       "      <td>0</td>\n",
       "      <td>0</td>\n",
       "      <td>0</td>\n",
       "      <td>...</td>\n",
       "      <td>0</td>\n",
       "      <td>0</td>\n",
       "      <td>0</td>\n",
       "      <td>0</td>\n",
       "      <td>0</td>\n",
       "      <td>1</td>\n",
       "      <td>0</td>\n",
       "      <td>0</td>\n",
       "      <td>0</td>\n",
       "      <td>1</td>\n",
       "    </tr>\n",
       "    <tr>\n",
       "      <th>5</th>\n",
       "      <td>-0.127805</td>\n",
       "      <td>-0.045675</td>\n",
       "      <td>-0.155746</td>\n",
       "      <td>-0.158417</td>\n",
       "      <td>0.0</td>\n",
       "      <td>1</td>\n",
       "      <td>0</td>\n",
       "      <td>0</td>\n",
       "      <td>0</td>\n",
       "      <td>0</td>\n",
       "      <td>...</td>\n",
       "      <td>1</td>\n",
       "      <td>0</td>\n",
       "      <td>0</td>\n",
       "      <td>0</td>\n",
       "      <td>0</td>\n",
       "      <td>0</td>\n",
       "      <td>0</td>\n",
       "      <td>0</td>\n",
       "      <td>1</td>\n",
       "      <td>0</td>\n",
       "    </tr>\n",
       "  </tbody>\n",
       "</table>\n",
       "<p>3 rows × 445 columns</p>\n",
       "</div>"
      ],
      "text/plain": [
       "   late_fee  discount_amount  judgment_amount  fine_amount compliance  \\\n",
       "0 -0.127805        -0.045675        -0.155746    -0.158417        0.0   \n",
       "1  0.610824        -0.045675         0.584940     0.581605        1.0   \n",
       "5 -0.127805        -0.045675        -0.155746    -0.158417        0.0   \n",
       "\n",
       "  agency_name_Buildings, Safety Engineering & Env Department  \\\n",
       "0                                                  1           \n",
       "1                                                  1           \n",
       "5                                                  1           \n",
       "\n",
       "  agency_name_Department of Public Works  \\\n",
       "0                                      0   \n",
       "1                                      0   \n",
       "5                                      0   \n",
       "\n",
       "  agency_name_Detroit Police Department agency_name_Health Department  \\\n",
       "0                                     0                             0   \n",
       "1                                     0                             0   \n",
       "5                                     0                             0   \n",
       "\n",
       "  agency_name_Other                   ...                     \\\n",
       "0                 0                   ...                      \n",
       "1                 0                   ...                      \n",
       "5                 0                   ...                      \n",
       "\n",
       "  violation_code_9-1-36(a) violation_code_9-1-43(a) - (Dwellin  \\\n",
       "0                        1                                   0   \n",
       "1                        0                                   0   \n",
       "5                        1                                   0   \n",
       "\n",
       "  violation_code_9-1-43(a) - (Structu violation_code_9-1-81(a)  \\\n",
       "0                                   0                        0   \n",
       "1                                   0                        0   \n",
       "5                                   0                        0   \n",
       "\n",
       "  violation_code_9-1-82(d) - (Dwellin violation_code_Other  \\\n",
       "0                                   0                    0   \n",
       "1                                   0                    1   \n",
       "5                                   0                    0   \n",
       "\n",
       "  disposition_Responsible (Fine Waived) by Deter  \\\n",
       "0                                              0   \n",
       "1                                              0   \n",
       "5                                              0   \n",
       "\n",
       "  disposition_Responsible by Admission disposition_Responsible by Default  \\\n",
       "0                                    0                                  1   \n",
       "1                                    0                                  0   \n",
       "5                                    0                                  1   \n",
       "\n",
       "  disposition_Responsible by Determination  \n",
       "0                                        0  \n",
       "1                                        1  \n",
       "5                                        0  \n",
       "\n",
       "[3 rows x 445 columns]"
      ]
     },
     "execution_count": 23,
     "metadata": {},
     "output_type": "execute_result"
    }
   ],
   "source": [
    "data, dummies = create_dummy(data, cat)\n",
    "\n",
    "model_features = [f for f in data if f not in target]  # save features order for test set\n",
    "\n",
    "data.head(3)"
   ]
  },
  {
   "cell_type": "markdown",
   "metadata": {},
   "source": [
    "### Split the data into training and validation sets"
   ]
  },
  {
   "cell_type": "code",
   "execution_count": 24,
   "metadata": {},
   "outputs": [
    {
     "name": "stdout",
     "output_type": "stream",
     "text": [
      "train size \t X:(127904, 444) \t Y:(127904, 1)\n",
      "val size \t X:(31976, 444) \t Y:(31976, 1)\n"
     ]
    }
   ],
   "source": [
    "def validation_split(data, val_size=0.25):\n",
    "    \n",
    "    train, test = train_test_split(data, test_size=val_size, \n",
    "                                   random_state=0, stratify = df_original[target])\n",
    "\n",
    "    # Separate the data into features and target (x=features, y=target)\n",
    "    x_train, y_train = train.drop(target, axis=1).values, train[target].values\n",
    "    x_val, y_val = test.drop(target, axis=1).values, test[target].values\n",
    "    # _nc: non-categorical yet (needs one-hot encoding)\n",
    "\n",
    "    return x_train, y_train, x_val, y_val\n",
    "\n",
    "\n",
    "X_train, y_train, X_val, y_val = validation_split(data, val_size=0.2)\n",
    "\n",
    "X_train = X_train.astype(np.float16)\n",
    "y_train = y_train.astype(np.float16)\n",
    "X_val = X_val.astype(np.float16)\n",
    "y_val = y_val.astype(np.float16)\n",
    "\n",
    "X_train_val = np.vstack((X_train, X_val))\n",
    "y_train_val = np.vstack((y_train, y_val))\n",
    "\n",
    "\n",
    "print(\"train size \\t X:{} \\t Y:{}\".format(X_train.shape, y_train.shape))\n",
    "print(\"val size \\t X:{} \\t Y:{}\".format(X_val.shape, y_val.shape))"
   ]
  },
  {
   "cell_type": "code",
   "execution_count": 25,
   "metadata": {
    "collapsed": true
   },
   "outputs": [],
   "source": [
    "def separate_x_y(data):\n",
    "    \"\"\" Separate the data into features and target (x=features, y=target) \"\"\"\n",
    "\n",
    "    x, y = data.drop(target, axis=1).values, data[target].values\n",
    "    x = x.astype(np.float16)\n",
    "    y = y.astype(np.float16)\n",
    "   \n",
    "    return x, y\n",
    "\n",
    "\n",
    "# X_train, y_train = separate_x_y(data)"
   ]
  },
  {
   "cell_type": "markdown",
   "metadata": {},
   "source": [
    "## ML classifiers"
   ]
  },
  {
   "cell_type": "code",
   "execution_count": 26,
   "metadata": {
    "collapsed": true
   },
   "outputs": [],
   "source": [
    "from sklearn.metrics import roc_auc_score, precision_score, accuracy_score, recall_score\n",
    "from sklearn.metrics import f1_score, confusion_matrix, roc_curve, auc\n",
    "\n",
    "\n",
    "def scores(y_test, y_pred, plot=True):\n",
    "    \"\"\" Print  different scores and plot ROC curve \"\"\"\n",
    "    print()\n",
    "    print('ROC AUC: \\t{:.2f}'.format(roc_auc_score(y_test, y_pred)))\n",
    "    print('F1: \\t\\t{:.2f}'.format(f1_score(y_test, y_pred)))\n",
    "    print('Accuracy: \\t{:.2f}'.format(accuracy_score(y_test, y_pred)))\n",
    "    print('Precision: \\t{:.2f}'.format(precision_score(y_test, y_pred)))\n",
    "    print('Recall: \\t{:.2f}'.format(recall_score(y_test, y_pred)))\n",
    "    print('\\n Confusion matrix: \\n', confusion_matrix(y_test, y_pred))\n",
    "\n",
    "    if plot:\n",
    "\n",
    "        fpr_lr, tpr_lr, _ = roc_curve(y_test, y_pred)\n",
    "        roc_auc_lr = auc(fpr_lr, tpr_lr)\n",
    "\n",
    "        plt.figure()\n",
    "        plt.xlim([-0.01, 1.00])\n",
    "        plt.ylim([-0.01, 1.01])\n",
    "        plt.plot(fpr_lr, tpr_lr, lw=3, label='ROC curve (area = {:0.2f})'.format(roc_auc_lr))\n",
    "        plt.xlabel('False Positive Rate', fontsize=16)\n",
    "        plt.ylabel('True Positive Rate', fontsize=16)\n",
    "        plt.title('ROC curve (1-of-10 digits classifier)', fontsize=16)\n",
    "        plt.legend(loc='lower right', fontsize=13)\n",
    "        plt.plot([0, 1], [0, 1], color='navy', lw=3, linestyle='--')\n",
    "        plt.axes().set_aspect('equal')"
   ]
  },
  {
   "cell_type": "markdown",
   "metadata": {},
   "source": [
    "### Dummy classifier"
   ]
  },
  {
   "cell_type": "code",
   "execution_count": 27,
   "metadata": {},
   "outputs": [
    {
     "name": "stdout",
     "output_type": "stream",
     "text": [
      "CPU times: user 8 ms, sys: 0 ns, total: 8 ms\n",
      "Wall time: 5.65 ms\n",
      "\n",
      "ROC AUC: \t0.50\n",
      "F1: \t\t0.00\n",
      "Accuracy: \t0.93\n",
      "Precision: \t0.00\n",
      "Recall: \t0.00\n",
      "\n",
      " Confusion matrix: \n",
      " [[29657     0]\n",
      " [ 2319     0]]\n"
     ]
    },
    {
     "name": "stderr",
     "output_type": "stream",
     "text": [
      "/home/angel/anaconda3/envs/gpu/lib/python3.6/site-packages/sklearn/metrics/classification.py:1135: UndefinedMetricWarning: F-score is ill-defined and being set to 0.0 due to no predicted samples.\n",
      "  'precision', 'predicted', average, warn_for)\n",
      "/home/angel/anaconda3/envs/gpu/lib/python3.6/site-packages/sklearn/metrics/classification.py:1135: UndefinedMetricWarning: Precision is ill-defined and being set to 0.0 due to no predicted samples.\n",
      "  'precision', 'predicted', average, warn_for)\n"
     ]
    },
    {
     "data": {
      "image/png": "[encoded data removed]",
      "text/plain": [
       "<matplotlib.figure.Figure at 0x7fb250517eb8>"
      ]
     },
     "metadata": {},
     "output_type": "display_data"
    }
   ],
   "source": [
    "from sklearn.dummy import DummyClassifier\n",
    "\n",
    "# Negative class (0) is most frequent\n",
    "%time clf = DummyClassifier(strategy='most_frequent').fit(X_train, np.ravel(y_train))\n",
    "# Therefore the dummy 'most_frequent' classifier always predicts class 0\n",
    "y_pred = clf.predict(X_val).reshape([-1, 1])\n",
    "\n",
    "scores(y_val, y_pred)"
   ]
  },
  {
   "cell_type": "markdown",
   "metadata": {},
   "source": [
    "### Logistic classifier"
   ]
  },
  {
   "cell_type": "code",
   "execution_count": 28,
   "metadata": {},
   "outputs": [
    {
     "name": "stdout",
     "output_type": "stream",
     "text": [
      "CPU times: user 1.8 s, sys: 32 ms, total: 1.83 s\n",
      "Wall time: 1.82 s\n",
      "\n",
      "ROC AUC: \t0.74\n",
      "F1: \t\t0.35\n",
      "Accuracy: \t0.83\n",
      "Precision: \t0.24\n",
      "Recall: \t0.64\n",
      "\n",
      " Confusion matrix: \n",
      " [[24905  4752]\n",
      " [  824  1495]]\n"
     ]
    },
    {
     "data": {
      "image/png": "[encoded data removed]",
      "text/plain": [
       "<matplotlib.figure.Figure at 0x7fb206cc5358>"
      ]
     },
     "metadata": {},
     "output_type": "display_data"
    }
   ],
   "source": [
    "from sklearn.linear_model import LogisticRegression\n",
    "\n",
    "clf_linear = None\n",
    "%time clf_linear = LogisticRegression(class_weight='balanced').fit(X_train, np.ravel(y_train))\n",
    "y_pred = clf_linear.predict(X_val).reshape([-1,1])\n",
    "\n",
    "scores(y_val, y_pred)"
   ]
  },
  {
   "cell_type": "code",
   "execution_count": 29,
   "metadata": {},
   "outputs": [
    {
     "name": "stdout",
     "output_type": "stream",
     "text": [
      "CV ROC_AUC: \t0.808\n"
     ]
    }
   ],
   "source": [
    "from sklearn.model_selection import cross_val_score\n",
    "\n",
    "print('CV ROC_AUC: \\t{:.3f}'.format(\n",
    "    np.mean(\n",
    "        cross_val_score(\n",
    "            clf_linear, X_train_val, np.ravel(y_train_val), cv=5, scoring='roc_auc'))))"
   ]
  },
  {
   "cell_type": "markdown",
   "metadata": {},
   "source": [
    "### Decision Tree classifier"
   ]
  },
  {
   "cell_type": "code",
   "execution_count": 30,
   "metadata": {},
   "outputs": [
    {
     "name": "stdout",
     "output_type": "stream",
     "text": [
      "CPU times: user 660 ms, sys: 80 ms, total: 740 ms\n",
      "Wall time: 641 ms\n",
      "\n",
      "ROC AUC: \t0.74\n",
      "F1: \t\t0.40\n",
      "Accuracy: \t0.87\n",
      "Precision: \t0.30\n",
      "Recall: \t0.58\n",
      "\n",
      " Confusion matrix: \n",
      " [[26559  3098]\n",
      " [  984  1335]]\n"
     ]
    },
    {
     "data": {
      "image/png": "[encoded data removed]",
      "text/plain": [
       "<matplotlib.figure.Figure at 0x7fb206c7d198>"
      ]
     },
     "metadata": {},
     "output_type": "display_data"
    }
   ],
   "source": [
    "from sklearn.tree import DecisionTreeClassifier\n",
    "\n",
    "%time clf_tree = DecisionTreeClassifier(max_depth=2, \\\n",
    "                                        class_weight='balanced').fit(X_train, y_train)\n",
    "y_pred = clf_tree.predict(X_val).reshape([-1,1])\n",
    "\n",
    "scores(y_val, y_pred)"
   ]
  },
  {
   "cell_type": "code",
   "execution_count": 31,
   "metadata": {},
   "outputs": [
    {
     "name": "stdout",
     "output_type": "stream",
     "text": [
      "CV ROC_AUC: \t0.746\n"
     ]
    }
   ],
   "source": [
    "print('CV ROC_AUC: \\t{:.3f}'.format(\n",
    "    np.mean(cross_val_score(clf_tree, X_train_val, np.ravel(y_train_val), cv=5,\n",
    "                            scoring='roc_auc'))))"
   ]
  },
  {
   "cell_type": "markdown",
   "metadata": {},
   "source": [
    "### Random Forest classifier"
   ]
  },
  {
   "cell_type": "code",
   "execution_count": 33,
   "metadata": {},
   "outputs": [
    {
     "name": "stdout",
     "output_type": "stream",
     "text": [
      "CPU times: user 964 ms, sys: 8 ms, total: 972 ms\n",
      "Wall time: 508 ms\n",
      "\n",
      "ROC AUC: \t0.74\n",
      "F1: \t\t0.40\n",
      "Accuracy: \t0.87\n",
      "Precision: \t0.30\n",
      "Recall: \t0.58\n",
      "\n",
      " Confusion matrix: \n",
      " [[26569  3088]\n",
      " [  984  1335]]\n"
     ]
    },
    {
     "data": {
      "image/png": "[encoded data removed]",
      "text/plain": [
       "<matplotlib.figure.Figure at 0x7fb206cbb358>"
      ]
     },
     "metadata": {},
     "output_type": "display_data"
    }
   ],
   "source": [
    "from sklearn.ensemble import RandomForestClassifier\n",
    "\n",
    "%time clf_random_forest = RandomForestClassifier(n_estimators = 3, max_features=130, max_depth=4, \\\n",
    "                            class_weight='balanced', n_jobs=-1, random_state=0).fit(X_train, np.ravel(y_train))\n",
    "\n",
    "y_pred = clf_random_forest.predict(X_val).reshape([-1, 1])\n",
    "\n",
    "scores(y_val, y_pred)"
   ]
  },
  {
   "cell_type": "code",
   "execution_count": 34,
   "metadata": {
    "scrolled": true
   },
   "outputs": [
    {
     "name": "stdout",
     "output_type": "stream",
     "text": [
      "CV ROC_AUC: \t0.796\n"
     ]
    }
   ],
   "source": [
    "print('CV ROC_AUC: \\t{:.3f}'.format(\n",
    "    np.mean(cross_val_score(clf_random_forest, X_train_val, np.ravel(y_train_val), cv=5,\n",
    "                            scoring='roc_auc'))))"
   ]
  },
  {
   "cell_type": "markdown",
   "metadata": {},
   "source": [
    "#### Grid search"
   ]
  },
  {
   "cell_type": "code",
   "execution_count": 35,
   "metadata": {},
   "outputs": [
    {
     "name": "stdout",
     "output_type": "stream",
     "text": [
      "Grid best parameter (max. AUC):  {'max_depth': 13, 'max_features': 150}\n",
      "Grid best score (AUC): 0.812\n"
     ]
    }
   ],
   "source": [
    "from sklearn.model_selection import GridSearchCV\n",
    "\n",
    "clf_grid_random_forest = RandomForestClassifier(\n",
    "    n_estimators=30,\n",
    "    class_weight='balanced',\n",
    "    n_jobs=-1,\n",
    "    random_state=0)\n",
    "\n",
    "grid_values = {'max_features': [150, 180, 210], 'max_depth': [9,13,17]}\n",
    "\n",
    "grid_clf_auc = GridSearchCV(clf_grid_random_forest, param_grid=grid_values, scoring='roc_auc')\n",
    "grid_clf_auc.fit(X_train_val, np.ravel(y_train_val))\n",
    "\n",
    "print('Grid best parameter (max. AUC): ', grid_clf_auc.best_params_)\n",
    "print('Grid best score (AUC): {:.3f}'.format(grid_clf_auc.best_score_))"
   ]
  },
  {
   "cell_type": "markdown",
   "metadata": {},
   "source": [
    "### Best classifier"
   ]
  },
  {
   "cell_type": "code",
   "execution_count": 36,
   "metadata": {
    "scrolled": true
   },
   "outputs": [
    {
     "name": "stdout",
     "output_type": "stream",
     "text": [
      "CPU times: user 51.4 s, sys: 4 ms, total: 51.4 s\n",
      "Wall time: 13.9 s\n"
     ]
    }
   ],
   "source": [
    "%time clf_random_forest_opt = RandomForestClassifier(n_estimators = 30, max_features=150, \\\n",
    "                                max_depth=13, class_weight='balanced', n_jobs=-1, \\\n",
    "                                   random_state=0).fit(X_train_val, np.ravel(y_train_val))"
   ]
  },
  {
   "cell_type": "markdown",
   "metadata": {},
   "source": [
    "## Validation Test set"
   ]
  },
  {
   "cell_type": "code",
   "execution_count": 37,
   "metadata": {},
   "outputs": [
    {
     "data": {
      "text/html": [
       "<div>\n",
       "<style>\n",
       "    .dataframe thead tr:only-child th {\n",
       "        text-align: right;\n",
       "    }\n",
       "\n",
       "    .dataframe thead th {\n",
       "        text-align: left;\n",
       "    }\n",
       "\n",
       "    .dataframe tbody tr th {\n",
       "        vertical-align: top;\n",
       "    }\n",
       "</style>\n",
       "<table border=\"1\" class=\"dataframe\">\n",
       "  <thead>\n",
       "    <tr style=\"text-align: right;\">\n",
       "      <th></th>\n",
       "      <th>ticket_id</th>\n",
       "      <th>agency_name</th>\n",
       "      <th>inspector_name</th>\n",
       "      <th>violator_name</th>\n",
       "      <th>violation_street_number</th>\n",
       "      <th>violation_street_name</th>\n",
       "      <th>violation_zip_code</th>\n",
       "      <th>mailing_address_str_number</th>\n",
       "      <th>mailing_address_str_name</th>\n",
       "      <th>city</th>\n",
       "      <th>...</th>\n",
       "      <th>clean_up_cost</th>\n",
       "      <th>judgment_amount</th>\n",
       "      <th>payment_amount</th>\n",
       "      <th>balance_due</th>\n",
       "      <th>payment_date</th>\n",
       "      <th>payment_status</th>\n",
       "      <th>collection_status</th>\n",
       "      <th>grafitti_status</th>\n",
       "      <th>compliance_detail</th>\n",
       "      <th>compliance</th>\n",
       "    </tr>\n",
       "  </thead>\n",
       "  <tbody>\n",
       "    <tr>\n",
       "      <th>29156</th>\n",
       "      <td>48696</td>\n",
       "      <td>Department of Public Works</td>\n",
       "      <td>Funchess, Mitchell</td>\n",
       "      <td>CORP, CONTIMORTGAGE</td>\n",
       "      <td>8200.0</td>\n",
       "      <td>HEYDEN</td>\n",
       "      <td>NaN</td>\n",
       "      <td>3815</td>\n",
       "      <td>WEST TEMPLE</td>\n",
       "      <td>SALT LAKE CITY</td>\n",
       "      <td>...</td>\n",
       "      <td>0.0</td>\n",
       "      <td>140.0</td>\n",
       "      <td>0.0</td>\n",
       "      <td>140.0</td>\n",
       "      <td>NaN</td>\n",
       "      <td>NO PAYMENT APPLIED</td>\n",
       "      <td>IN COLLECTION</td>\n",
       "      <td>NaN</td>\n",
       "      <td>non-compliant by no payment</td>\n",
       "      <td>0.0</td>\n",
       "    </tr>\n",
       "    <tr>\n",
       "      <th>125262</th>\n",
       "      <td>152329</td>\n",
       "      <td>Buildings, Safety Engineering &amp; Env Department</td>\n",
       "      <td>Doetsch, James</td>\n",
       "      <td>JACKSON, THEO</td>\n",
       "      <td>13821.0</td>\n",
       "      <td>GLENWOOD</td>\n",
       "      <td>NaN</td>\n",
       "      <td>1464</td>\n",
       "      <td>PO BOX</td>\n",
       "      <td>DETROIT</td>\n",
       "      <td>...</td>\n",
       "      <td>0.0</td>\n",
       "      <td>305.0</td>\n",
       "      <td>0.0</td>\n",
       "      <td>305.0</td>\n",
       "      <td>NaN</td>\n",
       "      <td>NO PAYMENT APPLIED</td>\n",
       "      <td>NaN</td>\n",
       "      <td>NaN</td>\n",
       "      <td>non-compliant by no payment</td>\n",
       "      <td>0.0</td>\n",
       "    </tr>\n",
       "  </tbody>\n",
       "</table>\n",
       "<p>2 rows × 34 columns</p>\n",
       "</div>"
      ],
      "text/plain": [
       "       ticket_id                                     agency_name  \\\n",
       "29156      48696                      Department of Public Works   \n",
       "125262    152329  Buildings, Safety Engineering & Env Department   \n",
       "\n",
       "            inspector_name        violator_name violation_street_number  \\\n",
       "29156   Funchess, Mitchell  CORP, CONTIMORTGAGE                  8200.0   \n",
       "125262      Doetsch, James        JACKSON, THEO                 13821.0   \n",
       "\n",
       "       violation_street_name violation_zip_code mailing_address_str_number  \\\n",
       "29156                 HEYDEN                NaN                       3815   \n",
       "125262              GLENWOOD                NaN                       1464   \n",
       "\n",
       "       mailing_address_str_name            city    ...     clean_up_cost  \\\n",
       "29156               WEST TEMPLE  SALT LAKE CITY    ...               0.0   \n",
       "125262                   PO BOX         DETROIT    ...               0.0   \n",
       "\n",
       "       judgment_amount payment_amount balance_due payment_date  \\\n",
       "29156            140.0            0.0       140.0          NaN   \n",
       "125262           305.0            0.0       305.0          NaN   \n",
       "\n",
       "            payment_status collection_status grafitti_status  \\\n",
       "29156   NO PAYMENT APPLIED     IN COLLECTION             NaN   \n",
       "125262  NO PAYMENT APPLIED               NaN             NaN   \n",
       "\n",
       "                  compliance_detail compliance  \n",
       "29156   non-compliant by no payment        0.0  \n",
       "125262  non-compliant by no payment        0.0  \n",
       "\n",
       "[2 rows x 34 columns]"
      ]
     },
     "execution_count": 37,
     "metadata": {},
     "output_type": "execute_result"
    }
   ],
   "source": [
    "df_test.head(2)"
   ]
  },
  {
   "cell_type": "markdown",
   "metadata": {},
   "source": [
    "#### Process validation test data with training parameters (no data leakage)"
   ]
  },
  {
   "cell_type": "code",
   "execution_count": 38,
   "metadata": {},
   "outputs": [
    {
     "name": "stdout",
     "output_type": "stream",
     "text": [
      "No missing values found\n"
     ]
    }
   ],
   "source": [
    "df_test = remove_features(df_test)\n",
    "df_test[cat], _ = remove_lowfreq(df_test[cat], values=cat_values)\n",
    "df_test[cat] = fill_missing_categorical(df_test[cat])\n",
    "missing(df_test)\n",
    "\n",
    "df_test = fix_types(df_test)\n",
    "df_test[num], _ = standardize(df_test[num], scale)\n",
    "df_test, _ = create_dummy(df_test, cat, dummies)"
   ]
  },
  {
   "cell_type": "code",
   "execution_count": 39,
   "metadata": {
    "collapsed": true
   },
   "outputs": [],
   "source": [
    "df_test = df_test[model_features+target] # sort columns to match training features order"
   ]
  },
  {
   "cell_type": "code",
   "execution_count": 40,
   "metadata": {
    "collapsed": true
   },
   "outputs": [],
   "source": [
    "X_test, y_test = separate_x_y(df_test)"
   ]
  },
  {
   "cell_type": "markdown",
   "metadata": {},
   "source": [
    "#### Validation test accuracies"
   ]
  },
  {
   "cell_type": "code",
   "execution_count": 41,
   "metadata": {
    "scrolled": false
   },
   "outputs": [
    {
     "name": "stdout",
     "output_type": "stream",
     "text": [
      "LogisticRegression(C=1.0, class_weight='balanced', dual=False,\n",
      "          fit_intercept=True, intercept_scaling=1, max_iter=100,\n",
      "          multi_class='ovr', n_jobs=1, penalty='l2', random_state=None,\n",
      "          solver='liblinear', tol=0.0001, verbose=0, warm_start=False)\n",
      "ROC AUC: \t0.74 \n",
      "\n",
      "DecisionTreeClassifier(class_weight='balanced', criterion='gini', max_depth=2,\n",
      "            max_features=None, max_leaf_nodes=None,\n",
      "            min_impurity_decrease=0.0, min_impurity_split=None,\n",
      "            min_samples_leaf=1, min_samples_split=2,\n",
      "            min_weight_fraction_leaf=0.0, presort=False, random_state=None,\n",
      "            splitter='best')\n",
      "ROC AUC: \t0.74 \n",
      "\n",
      "RandomForestClassifier(bootstrap=True, class_weight='balanced',\n",
      "            criterion='gini', max_depth=4, max_features=130,\n",
      "            max_leaf_nodes=None, min_impurity_decrease=0.0,\n",
      "            min_impurity_split=None, min_samples_leaf=1,\n",
      "            min_samples_split=2, min_weight_fraction_leaf=0.0,\n",
      "            n_estimators=3, n_jobs=-1, oob_score=False, random_state=0,\n",
      "            verbose=0, warm_start=False)\n",
      "ROC AUC: \t0.74 \n",
      "\n",
      "RandomForestClassifier(bootstrap=True, class_weight='balanced',\n",
      "            criterion='gini', max_depth=13, max_features=150,\n",
      "            max_leaf_nodes=None, min_impurity_decrease=0.0,\n",
      "            min_impurity_split=None, min_samples_leaf=1,\n",
      "            min_samples_split=2, min_weight_fraction_leaf=0.0,\n",
      "            n_estimators=30, n_jobs=-1, oob_score=False, random_state=0,\n",
      "            verbose=0, warm_start=False)\n",
      "ROC AUC: \t0.75 \n",
      "\n"
     ]
    }
   ],
   "source": [
    "for clf in [clf_linear, clf_tree, clf_random_forest, clf_random_forest_opt]:\n",
    "\n",
    "    y_pred = clf.predict(X_test).reshape([-1, 1])\n",
    "    print(clf)\n",
    "    print('ROC AUC: \\t{:.2f} \\n'.format(roc_auc_score(y_test, y_pred)))"
   ]
  },
  {
   "cell_type": "markdown",
   "metadata": {},
   "source": [
    "## Final Blight model"
   ]
  },
  {
   "cell_type": "markdown",
   "metadata": {},
   "source": [
    "The best model will be trained with all data from `train.csv` to generate compliance probabilities of `test.csv`"
   ]
  },
  {
   "cell_type": "code",
   "execution_count": 42,
   "metadata": {},
   "outputs": [
    {
     "data": {
      "text/plain": [
       "(61001, 27)"
      ]
     },
     "execution_count": 42,
     "metadata": {},
     "output_type": "execute_result"
    }
   ],
   "source": [
    "df = df_original.copy()  # From train.csv\n",
    "df_final_test = pd.read_csv('data/test.csv', encoding='iso-8859-1', dtype='unicode')\n",
    "df_final_test.shape"
   ]
  },
  {
   "cell_type": "code",
   "execution_count": 43,
   "metadata": {
    "collapsed": true
   },
   "outputs": [],
   "source": [
    "test_ticket_id = df_final_test['ticket_id'].values"
   ]
  },
  {
   "cell_type": "code",
   "execution_count": 44,
   "metadata": {
    "scrolled": true
   },
   "outputs": [
    {
     "name": "stdout",
     "output_type": "stream",
     "text": [
      "violator_name                    28\n",
      "violation_zip_code            36977\n",
      "mailing_address_str_number     1014\n",
      "mailing_address_str_name          3\n",
      "city                              1\n",
      "state                           331\n",
      "zip_code                          3\n",
      "non_us_str_code               61001\n",
      "hearing_date                   2197\n",
      "grafitti_status               58780\n",
      "dtype: int64\n"
     ]
    }
   ],
   "source": [
    "missing(df_final_test)"
   ]
  },
  {
   "cell_type": "markdown",
   "metadata": {},
   "source": [
    "#### Process the training features\n",
    "\n",
    "Same pipeline as the one used with the above training set"
   ]
  },
  {
   "cell_type": "code",
   "execution_count": 45,
   "metadata": {
    "collapsed": true
   },
   "outputs": [],
   "source": [
    "df = remove_features(df)\n",
    "df[cat], cat_values = remove_lowfreq(df[cat])  # time-consuming\n",
    "df[cat] = fill_missing_categorical(df[cat])\n",
    "\n",
    "df= fix_types(df)\n",
    "df[num], _ = standardize(df[num], scale)\n",
    "df, _ = create_dummy(df, cat, dummies)    "
   ]
  },
  {
   "cell_type": "code",
   "execution_count": 46,
   "metadata": {},
   "outputs": [
    {
     "name": "stdout",
     "output_type": "stream",
     "text": [
      "No missing values found\n"
     ]
    }
   ],
   "source": [
    "missing(df)"
   ]
  },
  {
   "cell_type": "code",
   "execution_count": 47,
   "metadata": {
    "collapsed": true
   },
   "outputs": [],
   "source": [
    "model_features = [f for f in df if f not in target]  # save features order for test set"
   ]
  },
  {
   "cell_type": "code",
   "execution_count": 48,
   "metadata": {
    "collapsed": true
   },
   "outputs": [],
   "source": [
    "X_train, y_train = separate_x_y(df)"
   ]
  },
  {
   "cell_type": "markdown",
   "metadata": {},
   "source": [
    "#### Train the model"
   ]
  },
  {
   "cell_type": "code",
   "execution_count": 49,
   "metadata": {},
   "outputs": [
    {
     "name": "stdout",
     "output_type": "stream",
     "text": [
      "CPU times: user 43.5 s, sys: 56 ms, total: 43.6 s\n",
      "Wall time: 11.9 s\n"
     ]
    }
   ],
   "source": [
    "%time clf_random_forest_opt = RandomForestClassifier(n_estimators = 30, max_features=150, \\\n",
    "                                    max_depth=13, class_weight='balanced', n_jobs=-1, \\\n",
    "                                   random_state=0).fit(X_train, np.ravel(y_train))"
   ]
  },
  {
   "cell_type": "markdown",
   "metadata": {},
   "source": [
    "#### Process the test features with training parameters (no data leakage)\n",
    "\n",
    "Same pipeline as the one used with the above test set"
   ]
  },
  {
   "cell_type": "code",
   "execution_count": 50,
   "metadata": {
    "collapsed": true
   },
   "outputs": [],
   "source": [
    "df_final_test = pd.concat([df_final_test,pd.DataFrame(columns=target)]) # add empty target column\n"
   ]
  },
  {
   "cell_type": "code",
   "execution_count": 51,
   "metadata": {},
   "outputs": [
    {
     "name": "stdout",
     "output_type": "stream",
     "text": [
      "compliance    61001\n",
      "dtype: int64\n"
     ]
    }
   ],
   "source": [
    "df_final_test = remove_features(df_final_test)\n",
    "df_final_test[cat], _ = remove_lowfreq(df_final_test[cat], values=cat_values)\n",
    "df_final_test[cat] = fill_missing_categorical(df_final_test[cat])\n",
    "df_final_test= fix_types(df_final_test)\n",
    "df_final_test[num], _ = standardize(df_final_test[num], scale)\n",
    "df_final_test, _ = create_dummy(df_final_test, cat, dummies)\n",
    "\n",
    "missing(df_final_test)"
   ]
  },
  {
   "cell_type": "code",
   "execution_count": 52,
   "metadata": {
    "collapsed": true
   },
   "outputs": [],
   "source": [
    "# sort columns to match training features order\n",
    "df_final_test = df_final_test[model_features+target] "
   ]
  },
  {
   "cell_type": "code",
   "execution_count": 53,
   "metadata": {
    "collapsed": true
   },
   "outputs": [],
   "source": [
    "X_final_test, y_final_test = separate_x_y(df_final_test)"
   ]
  },
  {
   "cell_type": "markdown",
   "metadata": {},
   "source": [
    "#### Predict the probabilities of compliance of test data"
   ]
  },
  {
   "cell_type": "code",
   "execution_count": 54,
   "metadata": {
    "collapsed": true,
    "scrolled": false
   },
   "outputs": [],
   "source": [
    "df_final_test['target_proba'] = clf_random_forest_opt.predict_proba(X_final_test)[:,1]"
   ]
  },
  {
   "cell_type": "code",
   "execution_count": 55,
   "metadata": {},
   "outputs": [
    {
     "data": {
      "text/plain": [
       "284932    0.734812\n",
       "285362    0.089062\n",
       "285361    0.383716\n",
       "285338    0.425887\n",
       "285346    0.617245\n",
       "dtype: float64"
      ]
     },
     "execution_count": 55,
     "metadata": {},
     "output_type": "execute_result"
    }
   ],
   "source": [
    "results = pd.Series(df_final_test['target_proba'].values, index = test_ticket_id)\n",
    "results.head()"
   ]
  }
 ],
 "metadata": {
  "coursera": {
   "course_slug": "python-machine-learning",
   "graded_item_id": "nNS8l",
   "launcher_item_id": "yWWk7",
   "part_id": "w8BSS"
  },
  "kernelspec": {
   "display_name": "Python 3",
   "language": "python",
   "name": "python3"
  },
  "language_info": {
   "codemirror_mode": {
    "name": "ipython",
    "version": 3
   },
   "file_extension": ".py",
   "mimetype": "text/x-python",
   "name": "python",
   "nbconvert_exporter": "python",
   "pygments_lexer": "ipython3",
   "version": "3.6.2"
  }
 },
 "nbformat": 4,
 "nbformat_minor": 2
}
